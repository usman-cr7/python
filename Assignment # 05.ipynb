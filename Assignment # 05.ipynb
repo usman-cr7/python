{
 "cells": [
  {
   "cell_type": "code",
   "execution_count": 9,
   "metadata": {},
   "outputs": [
    {
     "name": "stdout",
     "output_type": "stream",
     "text": [
      "Enter a number : 4\n",
      "Factorial of 4 is :  24\n"
     ]
    }
   ],
   "source": [
    "# Question # 01:  \n",
    "# write a factorial program\n",
    "def fact(n):\n",
    "    fac = 1\n",
    "    for i in range(1, n+1):\n",
    "        fac = fac * i\n",
    "    return fac\n",
    "num = int(input(\"Enter a number : \"))\n",
    "print(f\"Factorial of {num} is : \",fact(num))"
   ]
  },
  {
   "cell_type": "code",
   "execution_count": 46,
   "metadata": {},
   "outputs": [
    {
     "name": "stdout",
     "output_type": "stream",
     "text": [
      "Enter a String without space : BBsuL\n",
      "3\n",
      "2\n",
      "None\n"
     ]
    }
   ],
   "source": [
    "# Question # 02:\n",
    "def string(st):\n",
    "    c1 = 0\n",
    "    c2 = 0\n",
    "    for i in st:\n",
    "        if(i.isupper()) == True:\n",
    "            c1+=1\n",
    "        elif(i.islower()) == True:\n",
    "            c2+=1\n",
    "    print(c1)\n",
    "    print(c2)\n",
    "name = input(\"Enter a String without space : \")\n",
    "print(string(name))"
   ]
  },
  {
   "cell_type": "code",
   "execution_count": 41,
   "metadata": {},
   "outputs": [
    {
     "name": "stdout",
     "output_type": "stream",
     "text": [
      "[2, 4, 6, 8]\n"
     ]
    }
   ],
   "source": [
    "# Question # 03:\n",
    "def even(n):\n",
    "    l = []\n",
    "    for i in n:\n",
    "        if i%2 == 0:\n",
    "            l.append(i)\n",
    "    return l\n",
    "    \n",
    "li = [1,2,3,4,5,6,7,8]\n",
    "print(even(li))"
   ]
  },
  {
   "cell_type": "code",
   "execution_count": 54,
   "metadata": {},
   "outputs": [
    {
     "name": "stdout",
     "output_type": "stream",
     "text": [
      "Enter a Word : madam\n",
      "True\n"
     ]
    }
   ],
   "source": [
    "#Question # 04:\n",
    "def palindrome(string):\n",
    "    rev = string[::-1]\n",
    "    if (string == rev):\n",
    "        return True\n",
    "    return False\n",
    "word = input(\"Enter a Word : \")\n",
    "print(palindrome(word))"
   ]
  },
  {
   "cell_type": "code",
   "execution_count": 58,
   "metadata": {},
   "outputs": [
    {
     "name": "stdout",
     "output_type": "stream",
     "text": [
      "Enter a number : 7\n",
      "True\n"
     ]
    }
   ],
   "source": [
    "#Question # 05:\n",
    "def prime(n):\n",
    "    for i in range(2, n):\n",
    "        if (n%i ==0):\n",
    "            return False\n",
    "    return True\n",
    "num = int(input(\"Enter a number : \"))\n",
    "print(prime(num))"
   ]
  },
  {
   "cell_type": "code",
   "execution_count": 2,
   "metadata": {},
   "outputs": [
    {
     "name": "stdout",
     "output_type": "stream",
     "text": [
      "Enter Items : shoes, shirt, pent, trovzer\n",
      "['shoes, shirt, pent, trovzer']\n"
     ]
    }
   ],
   "source": [
    "# Question # 06:\n",
    "def customer(*args):\n",
    "    li = []\n",
    "    for i in args:\n",
    "        li.append(i)\n",
    "    return li\n",
    "print(customer(input(\"Enter Items : \")))"
   ]
  }
 ],
 "metadata": {
  "kernelspec": {
   "display_name": "Python 3",
   "language": "python",
   "name": "python3"
  },
  "language_info": {
   "codemirror_mode": {
    "name": "ipython",
    "version": 3
   },
   "file_extension": ".py",
   "mimetype": "text/x-python",
   "name": "python",
   "nbconvert_exporter": "python",
   "pygments_lexer": "ipython3",
   "version": "3.7.0"
  }
 },
 "nbformat": 4,
 "nbformat_minor": 2
}
