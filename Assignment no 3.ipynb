{
 "cells": [
  {
   "cell_type": "code",
   "execution_count": 1,
   "metadata": {},
   "outputs": [
    {
     "name": "stdout",
     "output_type": "stream",
     "text": [
      "Enter Your First Number = 5\n",
      "Enter Your Second Number = 6\n",
      "Enter your operation = *\n",
      "30 answer\n"
     ]
    }
   ],
   "source": [
    "#calculator\n",
    "a = int(input(\"Enter Your First Number = \"))\n",
    "b = int(input(\"Enter Your Second Number = \"))\n",
    "operation = input(\"Enter your operation = \")\n",
    "\n",
    "if operation == '+':\n",
    "    c = a + b\n",
    "    print(c,'answer')\n",
    "elif operation == '-':\n",
    "    c = a - b\n",
    "    print(c,'answer')\n",
    "elif operation == '*':\n",
    "    c = a * b\n",
    "    print(c,'answer')\n",
    "elif operation == '/':\n",
    "    c = a / b\n",
    "    print(c,'answer')\n",
    "elif operation == '%':\n",
    "    c = a % b\n",
    "    print(c,'answer')\n",
    "else :\n",
    "    print(\"Enter Correct operator\")\n"
   ]
  },
  {
   "cell_type": "code",
   "execution_count": 2,
   "metadata": {},
   "outputs": [
    {
     "name": "stdout",
     "output_type": "stream",
     "text": [
      "{1: 'China', 3: 'Russia', 7: 'America', 9: 'Italy', 32: 'Japan'}\n"
     ]
    }
   ],
   "source": [
    "#Add Key in Dictionay\n",
    "Dic = {1: \"China\" , 3: \"Russia\" , 7: \"America\" , 9: \"Italy\"}\n",
    "Dic[32] = \"Japan\"\n",
    "print(Dic)"
   ]
  },
  {
   "cell_type": "code",
   "execution_count": 3,
   "metadata": {},
   "outputs": [
    {
     "name": "stdout",
     "output_type": "stream",
     "text": [
      "2 is Numeric value\n",
      "4 is Numeric value\n",
      "10 is Numeric value\n"
     ]
    }
   ],
   "source": [
    "#Finding numeric value from list\n",
    "li = ['a' , 'b' , '2' , '4' , '10' , 'd' , 'e']\n",
    "for i in li:\n",
    "    if i.isdigit():\n",
    "        print(i, 'is Numeric value')"
   ]
  },
  {
   "cell_type": "code",
   "execution_count": 4,
   "metadata": {},
   "outputs": [
    {
     "name": "stdout",
     "output_type": "stream",
     "text": [
      "80\n"
     ]
    }
   ],
   "source": [
    "#Sum all numeric item in a dictionary\n",
    "Dic = {\n",
    "    \"num1\" : 10,\n",
    "    \"num2\" : 20,\n",
    "    \"num3\" : 50,\n",
    "}\n",
    "result = sum(Dic.values())\n",
    "print(result)"
   ]
  },
  {
   "cell_type": "code",
   "execution_count": 5,
   "metadata": {},
   "outputs": [
    {
     "name": "stdout",
     "output_type": "stream",
     "text": [
      "[6, 7, 11, 15, 15, 20, 20, 20, 30, 30, 40, 40, 50, 50]\n",
      "[15, 20, 30, 40, 50]\n"
     ]
    }
   ],
   "source": [
    "#Identify Duplicate item from list\n",
    "my_list = [20,30,20,30,40,50,15,11,20,40,50,15,6,7]\n",
    " \n",
    "my_list.sort()\n",
    "print(my_list)\n",
    " \n",
    "new_list = sorted(set(my_list))\n",
    "dup_list =[]\n",
    " \n",
    " \n",
    "for i in range(len(new_list)):\n",
    "        if (my_list.count(new_list[i]) > 1 ):\n",
    "            dup_list.append(new_list[i])\n",
    "        \n",
    "print(dup_list)"
   ]
  },
  {
   "cell_type": "code",
   "execution_count": 6,
   "metadata": {},
   "outputs": [
    {
     "name": "stdout",
     "output_type": "stream",
     "text": [
      "Present,  value = 200\n",
      "Not present\n"
     ]
    }
   ],
   "source": [
    "#Check If a given key already exist in a dictionary\n",
    "def checkKey(dict, key): \n",
    "    if key in dict.keys(): \n",
    "        print(\"Present, \", end =\" \") \n",
    "        print(\"value =\", dict[key]) \n",
    "    else: \n",
    "        print(\"Not present\") \n",
    "\n",
    "dict = {'a': 100, 'b':200, 'c':300} \n",
    "\n",
    "key = 'b'\n",
    "checkKey(dict, key) \n",
    "  \n",
    "key = 'z'\n",
    "checkKey(dict, key)"
   ]
  },
  {
   "cell_type": "code",
   "execution_count": null,
   "metadata": {},
   "outputs": [],
   "source": []
  }
 ],
 "metadata": {
  "kernelspec": {
   "display_name": "Python 3",
   "language": "python",
   "name": "python3"
  },
  "language_info": {
   "codemirror_mode": {
    "name": "ipython",
    "version": 3
   },
   "file_extension": ".py",
   "mimetype": "text/x-python",
   "name": "python",
   "nbconvert_exporter": "python",
   "pygments_lexer": "ipython3",
   "version": "3.7.0"
  }
 },
 "nbformat": 4,
 "nbformat_minor": 2
}
