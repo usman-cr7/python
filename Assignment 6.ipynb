{
 "cells": [
  {
   "cell_type": "code",
   "execution_count": 14,
   "metadata": {},
   "outputs": [
    {
     "name": "stdout",
     "output_type": "stream",
     "text": [
      "Assignment No 6\n",
      "\n",
      "\n",
      "\n",
      "Question No 1:\n",
      "\n",
      "\t\t\tDefine OOP ?\n",
      "\n",
      "Answer :\n",
      "\n",
      "\t\tObject-oriented programming is a programming paradigm based on the concept of \"objects\", which can contain data, in the form of fields, and code, in the form of procedures.\n",
      "\n",
      "Question No 2:\n",
      "\n",
      "\t\t\tList Down the Benefits of OOP ?\n",
      "\n",
      "Answer :\n",
      "\n",
      "It provides a clear modular structure for programs which makes it good for defining abstract datatypes in which implementation details are hidden\n",
      "\n",
      "Objects can also be reused within an across applications. The reuse of software also lowers the cost of development. More effort is put into the object-oriented analysis and design, which lowers the overall cost of development.\n",
      "\n",
      "It makes software easier to maintain. Since the design is modular, part of the system can be updated in case of issues without a need to make large-scale changes\n",
      "\n",
      "Reuse also enables faster development. Object-oriented programming languages come with rich libraries of objects, and code developed during projects is also reusable in future projects.\n",
      "\n",
      "\n",
      "\n",
      "Question No 3:\n",
      "\n",
      "\t\t\tDifferentiate Between Function And Method  ?\n",
      "\n",
      "\n",
      "\n",
      "Answer :\n",
      "\n",
      "Function :\n",
      "\n",
      "A Function is a Combination of Instructions that are Combined to achieve some result.\n",
      "\n",
      "Method :\n",
      "\n",
      "\t\t  \tA Method is a Procedure Associated with a class \n",
      "\n",
      "                           And defines the behaviour of the objects that are \t\t\tcreated from class.\n",
      "\n",
      "Question No 4:\n",
      "\n",
      "\t\t\tDefine the Following terms ?\n",
      "\n",
      "\t\t1. Class \n",
      "\n",
      "\t\t2. Object \n",
      "\n",
      "\t\t3. Attribute\n",
      "\n",
      "\t\t4. Behaviour\n",
      "\n",
      "Answer :\n",
      "\n",
      "Class:\n",
      "\n",
      "\t\t\tA class is a blue print of the object that contain all \t\t\tthe properties and attributes of the objects.\n",
      "\n",
      "Object:\n",
      "\n",
      "Object is a Real World Entity and instance of a class .\n",
      "\n",
      "\n",
      "\n",
      "\n",
      "\n",
      "Attributes:\n",
      "\n",
      "Attributes is an specification that defines a property of an object ,element, or file.\n",
      "\n",
      "\n",
      "\n",
      "Behaviour:\n",
      "\n",
      "A class behaviour determines how an instance of that class operates .\n"
     ]
    }
   ],
   "source": [
    "import docx2txt\n",
    "text = docx2txt.process(\"Desktop/Assignment No 6.docx\")\n",
    "print(text)"
   ]
  },
  {
   "cell_type": "code",
   "execution_count": 15,
   "metadata": {},
   "outputs": [],
   "source": [
    "class Car():\n",
    "    def __init__(self,model,name,color,reg_no,cc):\n",
    "        self.model = model\n",
    "        self.name = name\n",
    "        self.color = color\n",
    "        self.reg_no = reg_no\n",
    "        self.cc = cc\n",
    "    def run(self,run):\n",
    "        self.run = run\n",
    "        print(f\"Car runs on {self.run} Km/h\")\n",
    "    def speed(self,speed):\n",
    "        self.speed = speed\n",
    "        print(f\"maximum speed of car is {self.speed} Km/h\")"
   ]
  },
  {
   "cell_type": "code",
   "execution_count": 16,
   "metadata": {},
   "outputs": [],
   "source": [
    "ob1 = Car(\"Toyota\",\"Grandi\",\"Red\",633,1300)\n",
    "ob2 = Car(\"Honda\",\"Civiv\",\"White\",634,1300)\n",
    "ob3 = Car(\"Mercedes\",\"Benz\",\"Black\",635,1300)\n",
    "ob4 = Car(\"Rolls Royce\",\"Classic\",\"Brown\",636,1300)\n",
    "ob5 = Car(\"Ferrari\",\"GTR\",\"Red\",637,1300)"
   ]
  },
  {
   "cell_type": "code",
   "execution_count": 17,
   "metadata": {},
   "outputs": [
    {
     "name": "stdout",
     "output_type": "stream",
     "text": [
      "Car runs on 122 Km/h\n"
     ]
    }
   ],
   "source": [
    "ob1.run(122)"
   ]
  },
  {
   "cell_type": "code",
   "execution_count": 18,
   "metadata": {},
   "outputs": [
    {
     "name": "stdout",
     "output_type": "stream",
     "text": [
      "Car runs on 150 Km/h\n"
     ]
    }
   ],
   "source": [
    "ob2.run(150)"
   ]
  },
  {
   "cell_type": "code",
   "execution_count": 19,
   "metadata": {},
   "outputs": [
    {
     "name": "stdout",
     "output_type": "stream",
     "text": [
      "maximum speed of car is 700 Km/h\n"
     ]
    }
   ],
   "source": [
    "ob3.speed(700)"
   ]
  },
  {
   "cell_type": "code",
   "execution_count": 20,
   "metadata": {},
   "outputs": [
    {
     "data": {
      "text/plain": [
       "('Grandi', 'Red', 'Toyota')"
      ]
     },
     "execution_count": 20,
     "metadata": {},
     "output_type": "execute_result"
    }
   ],
   "source": [
    "ob1.name,ob1.color,ob1.model"
   ]
  },
  {
   "cell_type": "code",
   "execution_count": 21,
   "metadata": {},
   "outputs": [
    {
     "data": {
      "text/plain": [
       "'Toyota'"
      ]
     },
     "execution_count": 21,
     "metadata": {},
     "output_type": "execute_result"
    }
   ],
   "source": [
    "ob1.model"
   ]
  },
  {
   "cell_type": "code",
   "execution_count": 22,
   "metadata": {},
   "outputs": [
    {
     "data": {
      "text/plain": [
       "'Benz'"
      ]
     },
     "execution_count": 22,
     "metadata": {},
     "output_type": "execute_result"
    }
   ],
   "source": [
    "ob3.name"
   ]
  },
  {
   "cell_type": "code",
   "execution_count": 23,
   "metadata": {},
   "outputs": [
    {
     "data": {
      "text/plain": [
       "1300"
      ]
     },
     "execution_count": 23,
     "metadata": {},
     "output_type": "execute_result"
    }
   ],
   "source": [
    "ob5.cc"
   ]
  },
  {
   "cell_type": "code",
   "execution_count": 24,
   "metadata": {},
   "outputs": [
    {
     "data": {
      "text/plain": [
       "636"
      ]
     },
     "execution_count": 24,
     "metadata": {},
     "output_type": "execute_result"
    }
   ],
   "source": [
    "ob4.reg_no"
   ]
  },
  {
   "cell_type": "code",
   "execution_count": null,
   "metadata": {},
   "outputs": [],
   "source": []
  }
 ],
 "metadata": {
  "kernelspec": {
   "display_name": "Python 3",
   "language": "python",
   "name": "python3"
  },
  "language_info": {
   "codemirror_mode": {
    "name": "ipython",
    "version": 3
   },
   "file_extension": ".py",
   "mimetype": "text/x-python",
   "name": "python",
   "nbconvert_exporter": "python",
   "pygments_lexer": "ipython3",
   "version": "3.7.0"
  }
 },
 "nbformat": 4,
 "nbformat_minor": 2
}
