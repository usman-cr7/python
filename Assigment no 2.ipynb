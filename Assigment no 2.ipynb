{
 "cells": [
  {
   "cell_type": "code",
   "execution_count": 1,
   "metadata": {},
   "outputs": [
    {
     "name": "stdout",
     "output_type": "stream",
     "text": [
      "Enter your Maths marks : 85\n",
      "Enter your Physics marks : 77\n",
      "Enter your Biology marks : 75\n",
      "Enter your Chemistry marks : 70\n",
      "Enter your English marks : 87\n",
      "Your Grade is A Grade\n"
     ]
    }
   ],
   "source": [
    "#MARKSHEET\n",
    "\n",
    "math = int(input(\"Enter your Maths marks : \"))\n",
    "phy = int(input(\"Enter your Physics marks : \"))\n",
    "bio = int(input(\"Enter your Biology marks : \"))\n",
    "chem = int(input(\"Enter your Chemistry marks : \"))\n",
    "eng = int(input(\"Enter your English marks : \"))\n",
    "per = (math + phy + bio + chem + eng) / 5 \n",
    "if per >= 80 :\n",
    "    print(\"Your Grade is A1 Grade\")\n",
    "elif per >= 70 and per < 80 :\n",
    "    print (\"Your Grade is A Grade\")\n",
    "elif per >= 60 and per < 70 :\n",
    "    print (\"Your Grade is B Grade\")\n",
    "elif per >= 50 and per < 60 :\n",
    "    print (\"Your Grade is C Grade\")\n",
    "elif per >= 40 and per < 50 :\n",
    "    print (\"Your Grade is D Grade\")\n",
    "else :\n",
    "    print (\"Failed\")\n"
   ]
  },
  {
   "cell_type": "code",
   "execution_count": 2,
   "metadata": {},
   "outputs": [
    {
     "name": "stdout",
     "output_type": "stream",
     "text": [
      "Enter your value66\n",
      "66 is Even Number\n"
     ]
    }
   ],
   "source": [
    "#CHECK NUMBER IS EVEN OR ODD\n",
    "a = int(input(\"Enter your value\"))\n",
    "if a%2==0 :\n",
    "    print (a,\"is Even Number\")\n",
    "else :\n",
    "    print(a,\"is Odd Number\")"
   ]
  },
  {
   "cell_type": "code",
   "execution_count": 6,
   "metadata": {},
   "outputs": [
    {
     "data": {
      "text/plain": [
       "6"
      ]
     },
     "execution_count": 6,
     "metadata": {},
     "output_type": "execute_result"
    }
   ],
   "source": [
    "#CHECK LENGHT OF LIST \n",
    "a = [1,'saleem','Karachi',9.0,8.3,True]\n",
    "len(a)"
   ]
  },
  {
   "cell_type": "code",
   "execution_count": 9,
   "metadata": {},
   "outputs": [
    {
     "name": "stdout",
     "output_type": "stream",
     "text": [
      "20.3\n"
     ]
    }
   ],
   "source": [
    "#SUM THE VALUES OF LIST\n",
    "a = [1,2.3,8,9,0]\n",
    "total = sum (a)\n",
    "print (total)"
   ]
  },
  {
   "cell_type": "code",
   "execution_count": 10,
   "metadata": {},
   "outputs": [
    {
     "name": "stdout",
     "output_type": "stream",
     "text": [
      "Largest element is: 99\n"
     ]
    }
   ],
   "source": [
    "# Print largest in list \n",
    "list1 = [10, 20, 4, 45, 27,99] \n",
    "list1.sort() \n",
    "print(\"Largest element is:\", list1[-1])"
   ]
  },
  {
   "cell_type": "code",
   "execution_count": null,
   "metadata": {},
   "outputs": [],
   "source": []
  }
 ],
 "metadata": {
  "kernelspec": {
   "display_name": "Python 3",
   "language": "python",
   "name": "python3"
  },
  "language_info": {
   "codemirror_mode": {
    "name": "ipython",
    "version": 3
   },
   "file_extension": ".py",
   "mimetype": "text/x-python",
   "name": "python",
   "nbconvert_exporter": "python",
   "pygments_lexer": "ipython3",
   "version": "3.7.0"
  }
 },
 "nbformat": 4,
 "nbformat_minor": 2
}
